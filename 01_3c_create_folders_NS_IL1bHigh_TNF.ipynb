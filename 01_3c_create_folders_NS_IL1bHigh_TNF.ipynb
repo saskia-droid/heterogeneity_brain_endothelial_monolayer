{
 "cells": [
  {
   "cell_type": "markdown",
   "id": "92ebb798",
   "metadata": {},
   "source": [
    "## load library"
   ]
  },
  {
   "cell_type": "code",
   "execution_count": 1,
   "id": "284f0ad0",
   "metadata": {},
   "outputs": [],
   "source": [
    "import pickle\n",
    "import os \n",
    "import shutil\n",
    "import pandas as pd\n",
    "import re\n",
    "import numpy as np"
   ]
  },
  {
   "cell_type": "markdown",
   "id": "cc7e9b3e",
   "metadata": {},
   "source": [
    "## load data"
   ]
  },
  {
   "cell_type": "code",
   "execution_count": 2,
   "id": "87f0e72b",
   "metadata": {},
   "outputs": [
    {
     "data": {
      "text/plain": [
       "{0: {'exp': 'LM',\n",
       "  'stim': 'IL-1b High',\n",
       "  'stim_class': 1,\n",
       "  'stim_class_simple': 1,\n",
       "  'bn': '1_il1b_1_s1c1.tif'},\n",
       " 1: {'exp': 'LM',\n",
       "  'stim': 'TNF',\n",
       "  'stim_class': 3,\n",
       "  'stim_class_simple': 2,\n",
       "  'bn': '2_TNF_1_s1c1.tif'},\n",
       " 2: {'exp': 'LM',\n",
       "  'stim': 'IL-1b High',\n",
       "  'stim_class': 1,\n",
       "  'stim_class_simple': 1,\n",
       "  'bn': '3_IL1B_1_s1.tif'},\n",
       " 3: {'exp': 'LM',\n",
       "  'stim': 'NS',\n",
       "  'stim_class': 0,\n",
       "  'stim_class_simple': 0,\n",
       "  'bn': '4_NS_1_s1c1.tif'},\n",
       " 4: {'exp': 'LM',\n",
       "  'stim': 'NS',\n",
       "  'stim_class': 0,\n",
       "  'stim_class_simple': 0,\n",
       "  'bn': '5_NS_1_s1c1.tif'},\n",
       " 5: {'exp': 'LM',\n",
       "  'stim': 'IL-1b High',\n",
       "  'stim_class': 1,\n",
       "  'stim_class_simple': 1,\n",
       "  'bn': '6_IL1B_1_s1c1.tif'},\n",
       " 6: {'exp': 'SS',\n",
       "  'stim': 'IL-1b Low',\n",
       "  'stim_class': 2,\n",
       "  'stim_class_simple': 1,\n",
       "  'bn': 'FC2_Il1b_low_1_s1c1.tif'},\n",
       " 7: {'exp': 'SS',\n",
       "  'stim': 'IL-1b High',\n",
       "  'stim_class': 1,\n",
       "  'stim_class_simple': 1,\n",
       "  'bn': 'FC3_Il1b_high_1_s1c1.tif'},\n",
       " 8: {'exp': 'SS',\n",
       "  'stim': 'IL-1b Low',\n",
       "  'stim_class': 2,\n",
       "  'stim_class_simple': 1,\n",
       "  'bn': 'FC4_Il1b_low_1_s1c1.tif'},\n",
       " 9: {'exp': 'SS',\n",
       "  'stim': 'IL-1b High',\n",
       "  'stim_class': 1,\n",
       "  'stim_class_simple': 1,\n",
       "  'bn': 'FC1_Il1b_1_to_13_1_s1c1.tif'},\n",
       " 10: {'exp': 'SS',\n",
       "  'stim': 'IL-1b High',\n",
       "  'stim_class': 1,\n",
       "  'stim_class_simple': 1,\n",
       "  'bn': 'FC2_Il1b_1_to_4_1_s1c1.tif'},\n",
       " 11: {'exp': 'SS',\n",
       "  'stim': 'TNF',\n",
       "  'stim_class': 3,\n",
       "  'stim_class_simple': 2,\n",
       "  'bn': 'FC3_TNFa_1_to_8_1_s1c1.tif'},\n",
       " 12: {'exp': 'SS',\n",
       "  'stim': 'NS',\n",
       "  'stim_class': 0,\n",
       "  'stim_class_simple': 0,\n",
       "  'bn': 'FC4_NS_1_to_8_1_s1c1.tif'},\n",
       " 13: {'exp': 'SS',\n",
       "  'stim': 'TNF',\n",
       "  'stim_class': 3,\n",
       "  'stim_class_simple': 2,\n",
       "  'bn': 'FC5_TNFa_1_to_8_1_s1c1.tif'},\n",
       " 14: {'exp': 'SS',\n",
       "  'stim': 'IL-1b High',\n",
       "  'stim_class': 1,\n",
       "  'stim_class_simple': 1,\n",
       "  'bn': 'FC6_Il1b_1_to_8_1_s1c1.tif'},\n",
       " 15: {'exp': 'SS',\n",
       "  'stim': 'TNF',\n",
       "  'stim_class': 3,\n",
       "  'stim_class_simple': 2,\n",
       "  'bn': 'FC7_TNFa_1_to_8_1_s1c1.tif'},\n",
       " 16: {'exp': 'SS',\n",
       "  'stim': 'NS',\n",
       "  'stim_class': 0,\n",
       "  'stim_class_simple': 0,\n",
       "  'bn': 'FC8_NS_1_to_8_1_s1c1.tif'},\n",
       " 17: {'exp': 'SS',\n",
       "  'stim': 'IL-1b High',\n",
       "  'stim_class': 1,\n",
       "  'stim_class_simple': 1,\n",
       "  'bn': 'FC9_Il1b_1_to_8_1_s1c1.tif'},\n",
       " 18: {'exp': 'SS',\n",
       "  'stim': 'TNF',\n",
       "  'stim_class': 3,\n",
       "  'stim_class_simple': 2,\n",
       "  'bn': 'FC10_TNFa_1_to_8_1_s1c1.tif'},\n",
       " 19: {'exp': 'SS',\n",
       "  'stim': 'NS',\n",
       "  'stim_class': 0,\n",
       "  'stim_class_simple': 0,\n",
       "  'bn': 'FC11_NS_1_to_8_1_s1c1.tif'},\n",
       " 20: {'exp': 'SS',\n",
       "  'stim': 'IL-1b High',\n",
       "  'stim_class': 1,\n",
       "  'stim_class_simple': 1,\n",
       "  'bn': 'FC12_Il1b_1_to_8_1_s1c1.tif'},\n",
       " 21: {'exp': 'SS',\n",
       "  'stim': 'TNF',\n",
       "  'stim_class': 3,\n",
       "  'stim_class_simple': 2,\n",
       "  'bn': 'FC13_TNFa_1_to_8_1_s1c1.tif'},\n",
       " 22: {'exp': 'SS',\n",
       "  'stim': 'NS',\n",
       "  'stim_class': 0,\n",
       "  'stim_class_simple': 0,\n",
       "  'bn': 'FC14_NS_1_to_8_1_s1c1.tif'},\n",
       " 23: {'exp': 'SS',\n",
       "  'stim': 'TNF',\n",
       "  'stim_class': 3,\n",
       "  'stim_class_simple': 2,\n",
       "  'bn': 'FC15_TNFa_1_to_8_1_s1c1.tif'},\n",
       " 24: {'exp': 'SA',\n",
       "  'stim': 'TNF+IFN',\n",
       "  'stim_class': 4,\n",
       "  'stim_class_simple': 2,\n",
       "  'bn': '210217_EXP1_TNFIFN_tdTomOTI_1_h5s1c1.tif'},\n",
       " 25: {'exp': 'SA',\n",
       "  'stim': 'NS',\n",
       "  'stim_class': 0,\n",
       "  'stim_class_simple': 0,\n",
       "  'bn': '210217_EXP2_NS_tdTomOTI_1_s1c1.tif'},\n",
       " 26: {'exp': 'SA',\n",
       "  'stim': 'NS',\n",
       "  'stim_class': 0,\n",
       "  'stim_class_simple': 0,\n",
       "  'bn': '210217_EXP3_NS_tdTomOTI_1_s1c1.tif'},\n",
       " 27: {'exp': 'SA',\n",
       "  'stim': 'TNF+IFN',\n",
       "  'stim_class': 4,\n",
       "  'stim_class_simple': 2,\n",
       "  'bn': '210217_EXP4_TNFIFN_tdTomOTI_1_s1c1.tif'},\n",
       " 28: {'exp': 'SA',\n",
       "  'stim': 'TNF+IFN',\n",
       "  'stim_class': 4,\n",
       "  'stim_class_simple': 2,\n",
       "  'bn': '210217_EXP5_TNFIFN_tdTomOTI_1_s1c1.tif'}}"
      ]
     },
     "execution_count": 2,
     "metadata": {},
     "output_type": "execute_result"
    }
   ],
   "source": [
    "datadir = \"/Users/saskia/unibe19/master_thesis/TKI_project/data/\"\n",
    "ds_dir = os.path.join(datadir, 'dataset_PC_HN')\n",
    "info = pickle.load(open(os.path.join(ds_dir, \"info.pckl\"), \"rb\"))\n",
    "info"
   ]
  },
  {
   "cell_type": "markdown",
   "id": "33506b0a",
   "metadata": {},
   "source": [
    "get the *names* of folders that contain our two classes of interest:"
   ]
  },
  {
   "cell_type": "code",
   "execution_count": 3,
   "id": "1c7bd14e",
   "metadata": {},
   "outputs": [],
   "source": [
    "folder_names = []\n",
    "for i in info.keys():\n",
    "    if info[i].get('stim') == 'IL-1b High' or info[i].get('stim') == 'NS' or info[i].get('stim') == 'TNF': \n",
    "        folder_names.append(i)"
   ]
  },
  {
   "cell_type": "markdown",
   "id": "23915516",
   "metadata": {},
   "source": [
    "### get list of all folders and all image files "
   ]
  },
  {
   "cell_type": "code",
   "execution_count": 4,
   "id": "1993ef6a",
   "metadata": {},
   "outputs": [],
   "source": [
    "folder_list = [os.path.join(ds_dir, f'{folder_name:03d}') for folder_name in folder_names] \n",
    "# 3 digits in total with 0 in front"
   ]
  },
  {
   "cell_type": "code",
   "execution_count": 5,
   "id": "114f3f24",
   "metadata": {},
   "outputs": [],
   "source": [
    "img_names = []\n",
    "folder_names = []\n",
    "for folder in folder_list:\n",
    "    for img in sorted(os.listdir(folder)): \n",
    "        img_name = os.path.join(folder, img)\n",
    "        img_names.append(img_name)\n",
    "        folder_names.append(folder)"
   ]
  },
  {
   "cell_type": "code",
   "execution_count": 6,
   "id": "5f4c4b3c",
   "metadata": {},
   "outputs": [
    {
     "data": {
      "text/plain": [
       "186"
      ]
     },
     "execution_count": 6,
     "metadata": {},
     "output_type": "execute_result"
    }
   ],
   "source": [
    "len(img_names)"
   ]
  },
  {
   "cell_type": "markdown",
   "id": "163726d3",
   "metadata": {},
   "source": [
    "#### build dataframe "
   ]
  },
  {
   "cell_type": "code",
   "execution_count": 7,
   "id": "1d4ea2cc",
   "metadata": {},
   "outputs": [],
   "source": [
    "dict_Df = pd.DataFrame.from_dict(info, orient='index') \n",
    "paths_Df = pd.DataFrame({'path_to_img': img_names, 'path_to_folder': folder_names}) \n",
    "# on part un peu du principe que les jolies listes sont dans le même ordre -> un peu risky... "
   ]
  },
  {
   "cell_type": "markdown",
   "id": "b8ec26dd",
   "metadata": {},
   "source": [
    "add image id (3 digits of folder + 3 digits of image) "
   ]
  },
  {
   "cell_type": "code",
   "execution_count": 8,
   "id": "a1c1ebf0",
   "metadata": {},
   "outputs": [],
   "source": [
    "paths_Df['img_id'] = paths_Df.apply(lambda row: re.search(r'/(\\d{3})/(\\d{3})', row.path_to_img).group(1) + re.search(r'/(\\d{3})/(\\d{3})', row.path_to_img).group(2), axis=1)"
   ]
  },
  {
   "cell_type": "markdown",
   "id": "671fcf83",
   "metadata": {},
   "source": [
    "- add group to ``paths_Df`` \n",
    "- add info of ``dict_Df`` to ``paths_Df`` by merging using group"
   ]
  },
  {
   "cell_type": "code",
   "execution_count": 9,
   "id": "5ccbdf30",
   "metadata": {},
   "outputs": [],
   "source": [
    "paths_Df['group'] = paths_Df.apply(lambda row: int(re.search(r'/(\\d{3})$', row.path_to_folder).group(1)), axis=1)"
   ]
  },
  {
   "cell_type": "code",
   "execution_count": 10,
   "id": "1796e2c9",
   "metadata": {},
   "outputs": [],
   "source": [
    "dict_Df['group'] = dict_Df.index"
   ]
  },
  {
   "cell_type": "code",
   "execution_count": 11,
   "id": "493a2b88",
   "metadata": {
    "scrolled": false
   },
   "outputs": [
    {
     "data": {
      "text/html": [
       "<div>\n",
       "<style scoped>\n",
       "    .dataframe tbody tr th:only-of-type {\n",
       "        vertical-align: middle;\n",
       "    }\n",
       "\n",
       "    .dataframe tbody tr th {\n",
       "        vertical-align: top;\n",
       "    }\n",
       "\n",
       "    .dataframe thead th {\n",
       "        text-align: right;\n",
       "    }\n",
       "</style>\n",
       "<table border=\"1\" class=\"dataframe\">\n",
       "  <thead>\n",
       "    <tr style=\"text-align: right;\">\n",
       "      <th></th>\n",
       "      <th>path_to_img</th>\n",
       "      <th>path_to_folder</th>\n",
       "      <th>img_id</th>\n",
       "      <th>group</th>\n",
       "      <th>exp</th>\n",
       "      <th>stim</th>\n",
       "      <th>stim_class</th>\n",
       "      <th>stim_class_simple</th>\n",
       "      <th>bn</th>\n",
       "    </tr>\n",
       "  </thead>\n",
       "  <tbody>\n",
       "    <tr>\n",
       "      <th>0</th>\n",
       "      <td>/Users/saskia/unibe19/master_thesis/TKI_projec...</td>\n",
       "      <td>/Users/saskia/unibe19/master_thesis/TKI_projec...</td>\n",
       "      <td>000000</td>\n",
       "      <td>0</td>\n",
       "      <td>LM</td>\n",
       "      <td>IL-1b High</td>\n",
       "      <td>1</td>\n",
       "      <td>1</td>\n",
       "      <td>1_il1b_1_s1c1.tif</td>\n",
       "    </tr>\n",
       "    <tr>\n",
       "      <th>1</th>\n",
       "      <td>/Users/saskia/unibe19/master_thesis/TKI_projec...</td>\n",
       "      <td>/Users/saskia/unibe19/master_thesis/TKI_projec...</td>\n",
       "      <td>000001</td>\n",
       "      <td>0</td>\n",
       "      <td>LM</td>\n",
       "      <td>IL-1b High</td>\n",
       "      <td>1</td>\n",
       "      <td>1</td>\n",
       "      <td>1_il1b_1_s1c1.tif</td>\n",
       "    </tr>\n",
       "    <tr>\n",
       "      <th>2</th>\n",
       "      <td>/Users/saskia/unibe19/master_thesis/TKI_projec...</td>\n",
       "      <td>/Users/saskia/unibe19/master_thesis/TKI_projec...</td>\n",
       "      <td>000002</td>\n",
       "      <td>0</td>\n",
       "      <td>LM</td>\n",
       "      <td>IL-1b High</td>\n",
       "      <td>1</td>\n",
       "      <td>1</td>\n",
       "      <td>1_il1b_1_s1c1.tif</td>\n",
       "    </tr>\n",
       "    <tr>\n",
       "      <th>3</th>\n",
       "      <td>/Users/saskia/unibe19/master_thesis/TKI_projec...</td>\n",
       "      <td>/Users/saskia/unibe19/master_thesis/TKI_projec...</td>\n",
       "      <td>000003</td>\n",
       "      <td>0</td>\n",
       "      <td>LM</td>\n",
       "      <td>IL-1b High</td>\n",
       "      <td>1</td>\n",
       "      <td>1</td>\n",
       "      <td>1_il1b_1_s1c1.tif</td>\n",
       "    </tr>\n",
       "    <tr>\n",
       "      <th>4</th>\n",
       "      <td>/Users/saskia/unibe19/master_thesis/TKI_projec...</td>\n",
       "      <td>/Users/saskia/unibe19/master_thesis/TKI_projec...</td>\n",
       "      <td>000004</td>\n",
       "      <td>0</td>\n",
       "      <td>LM</td>\n",
       "      <td>IL-1b High</td>\n",
       "      <td>1</td>\n",
       "      <td>1</td>\n",
       "      <td>1_il1b_1_s1c1.tif</td>\n",
       "    </tr>\n",
       "    <tr>\n",
       "      <th>...</th>\n",
       "      <td>...</td>\n",
       "      <td>...</td>\n",
       "      <td>...</td>\n",
       "      <td>...</td>\n",
       "      <td>...</td>\n",
       "      <td>...</td>\n",
       "      <td>...</td>\n",
       "      <td>...</td>\n",
       "      <td>...</td>\n",
       "    </tr>\n",
       "    <tr>\n",
       "      <th>181</th>\n",
       "      <td>/Users/saskia/unibe19/master_thesis/TKI_projec...</td>\n",
       "      <td>/Users/saskia/unibe19/master_thesis/TKI_projec...</td>\n",
       "      <td>026001</td>\n",
       "      <td>26</td>\n",
       "      <td>SA</td>\n",
       "      <td>NS</td>\n",
       "      <td>0</td>\n",
       "      <td>0</td>\n",
       "      <td>210217_EXP3_NS_tdTomOTI_1_s1c1.tif</td>\n",
       "    </tr>\n",
       "    <tr>\n",
       "      <th>182</th>\n",
       "      <td>/Users/saskia/unibe19/master_thesis/TKI_projec...</td>\n",
       "      <td>/Users/saskia/unibe19/master_thesis/TKI_projec...</td>\n",
       "      <td>026002</td>\n",
       "      <td>26</td>\n",
       "      <td>SA</td>\n",
       "      <td>NS</td>\n",
       "      <td>0</td>\n",
       "      <td>0</td>\n",
       "      <td>210217_EXP3_NS_tdTomOTI_1_s1c1.tif</td>\n",
       "    </tr>\n",
       "    <tr>\n",
       "      <th>183</th>\n",
       "      <td>/Users/saskia/unibe19/master_thesis/TKI_projec...</td>\n",
       "      <td>/Users/saskia/unibe19/master_thesis/TKI_projec...</td>\n",
       "      <td>026003</td>\n",
       "      <td>26</td>\n",
       "      <td>SA</td>\n",
       "      <td>NS</td>\n",
       "      <td>0</td>\n",
       "      <td>0</td>\n",
       "      <td>210217_EXP3_NS_tdTomOTI_1_s1c1.tif</td>\n",
       "    </tr>\n",
       "    <tr>\n",
       "      <th>184</th>\n",
       "      <td>/Users/saskia/unibe19/master_thesis/TKI_projec...</td>\n",
       "      <td>/Users/saskia/unibe19/master_thesis/TKI_projec...</td>\n",
       "      <td>026004</td>\n",
       "      <td>26</td>\n",
       "      <td>SA</td>\n",
       "      <td>NS</td>\n",
       "      <td>0</td>\n",
       "      <td>0</td>\n",
       "      <td>210217_EXP3_NS_tdTomOTI_1_s1c1.tif</td>\n",
       "    </tr>\n",
       "    <tr>\n",
       "      <th>185</th>\n",
       "      <td>/Users/saskia/unibe19/master_thesis/TKI_projec...</td>\n",
       "      <td>/Users/saskia/unibe19/master_thesis/TKI_projec...</td>\n",
       "      <td>026005</td>\n",
       "      <td>26</td>\n",
       "      <td>SA</td>\n",
       "      <td>NS</td>\n",
       "      <td>0</td>\n",
       "      <td>0</td>\n",
       "      <td>210217_EXP3_NS_tdTomOTI_1_s1c1.tif</td>\n",
       "    </tr>\n",
       "  </tbody>\n",
       "</table>\n",
       "<p>186 rows × 9 columns</p>\n",
       "</div>"
      ],
      "text/plain": [
       "                                           path_to_img  \\\n",
       "0    /Users/saskia/unibe19/master_thesis/TKI_projec...   \n",
       "1    /Users/saskia/unibe19/master_thesis/TKI_projec...   \n",
       "2    /Users/saskia/unibe19/master_thesis/TKI_projec...   \n",
       "3    /Users/saskia/unibe19/master_thesis/TKI_projec...   \n",
       "4    /Users/saskia/unibe19/master_thesis/TKI_projec...   \n",
       "..                                                 ...   \n",
       "181  /Users/saskia/unibe19/master_thesis/TKI_projec...   \n",
       "182  /Users/saskia/unibe19/master_thesis/TKI_projec...   \n",
       "183  /Users/saskia/unibe19/master_thesis/TKI_projec...   \n",
       "184  /Users/saskia/unibe19/master_thesis/TKI_projec...   \n",
       "185  /Users/saskia/unibe19/master_thesis/TKI_projec...   \n",
       "\n",
       "                                        path_to_folder  img_id  group exp  \\\n",
       "0    /Users/saskia/unibe19/master_thesis/TKI_projec...  000000      0  LM   \n",
       "1    /Users/saskia/unibe19/master_thesis/TKI_projec...  000001      0  LM   \n",
       "2    /Users/saskia/unibe19/master_thesis/TKI_projec...  000002      0  LM   \n",
       "3    /Users/saskia/unibe19/master_thesis/TKI_projec...  000003      0  LM   \n",
       "4    /Users/saskia/unibe19/master_thesis/TKI_projec...  000004      0  LM   \n",
       "..                                                 ...     ...    ...  ..   \n",
       "181  /Users/saskia/unibe19/master_thesis/TKI_projec...  026001     26  SA   \n",
       "182  /Users/saskia/unibe19/master_thesis/TKI_projec...  026002     26  SA   \n",
       "183  /Users/saskia/unibe19/master_thesis/TKI_projec...  026003     26  SA   \n",
       "184  /Users/saskia/unibe19/master_thesis/TKI_projec...  026004     26  SA   \n",
       "185  /Users/saskia/unibe19/master_thesis/TKI_projec...  026005     26  SA   \n",
       "\n",
       "           stim  stim_class  stim_class_simple  \\\n",
       "0    IL-1b High           1                  1   \n",
       "1    IL-1b High           1                  1   \n",
       "2    IL-1b High           1                  1   \n",
       "3    IL-1b High           1                  1   \n",
       "4    IL-1b High           1                  1   \n",
       "..          ...         ...                ...   \n",
       "181          NS           0                  0   \n",
       "182          NS           0                  0   \n",
       "183          NS           0                  0   \n",
       "184          NS           0                  0   \n",
       "185          NS           0                  0   \n",
       "\n",
       "                                     bn  \n",
       "0                     1_il1b_1_s1c1.tif  \n",
       "1                     1_il1b_1_s1c1.tif  \n",
       "2                     1_il1b_1_s1c1.tif  \n",
       "3                     1_il1b_1_s1c1.tif  \n",
       "4                     1_il1b_1_s1c1.tif  \n",
       "..                                  ...  \n",
       "181  210217_EXP3_NS_tdTomOTI_1_s1c1.tif  \n",
       "182  210217_EXP3_NS_tdTomOTI_1_s1c1.tif  \n",
       "183  210217_EXP3_NS_tdTomOTI_1_s1c1.tif  \n",
       "184  210217_EXP3_NS_tdTomOTI_1_s1c1.tif  \n",
       "185  210217_EXP3_NS_tdTomOTI_1_s1c1.tif  \n",
       "\n",
       "[186 rows x 9 columns]"
      ]
     },
     "execution_count": 11,
     "metadata": {},
     "output_type": "execute_result"
    }
   ],
   "source": [
    "df = pd.merge(paths_Df, dict_Df, on='group')\n",
    "df"
   ]
  },
  {
   "cell_type": "markdown",
   "id": "9a1561cf",
   "metadata": {},
   "source": [
    "for each group:\n",
    "\n",
    "- shuffle indices\n",
    "- last 20% for test data \n",
    "- remaining 80% for train data \n"
   ]
  },
  {
   "cell_type": "markdown",
   "id": "bd434a37",
   "metadata": {},
   "source": [
    "create lists of indices for test and train"
   ]
  },
  {
   "cell_type": "code",
   "execution_count": 12,
   "id": "83a3b821",
   "metadata": {},
   "outputs": [],
   "source": [
    "test_indices = []\n",
    "train_indices = []\n",
    "\n",
    "groups = df['group'].unique()\n",
    "\n",
    "for group in groups: \n",
    "    df_temp = df[df['group'] == group]\n",
    "    idxs = df_temp.index\n",
    "    idxs = np.random.RandomState(seed=18).permutation(idxs) \n",
    "    n_test_data = int(len(idxs) * 0.2) \n",
    "    if n_test_data >= 1:\n",
    "        test_indices.append(idxs[-n_test_data:])\n",
    "        train_indices.append(idxs[:-n_test_data])\n",
    "    else:\n",
    "        train_indices.append(idxs)\n",
    "        \n",
    "test_indices = np.concatenate( test_indices, axis=0 )\n",
    "train_indices = np.concatenate( train_indices, axis=0 )"
   ]
  },
  {
   "cell_type": "markdown",
   "id": "002470fc",
   "metadata": {},
   "source": [
    "create train and test dataframe with indices"
   ]
  },
  {
   "cell_type": "code",
   "execution_count": 13,
   "id": "8338764f",
   "metadata": {},
   "outputs": [],
   "source": [
    "test_df = df.loc[test_indices]\n",
    "train_df = df.loc[train_indices]"
   ]
  },
  {
   "cell_type": "markdown",
   "id": "987c2bad",
   "metadata": {},
   "source": [
    "### creating new directories"
   ]
  },
  {
   "cell_type": "code",
   "execution_count": 14,
   "id": "a16b07b5",
   "metadata": {},
   "outputs": [],
   "source": [
    "folder3classes = os.path.join(datadir, 'dataset3class_NS_IL1bHigh_TNF')\n",
    "if not os.path.exists(folder3classes):\n",
    "    os.mkdir(folder3classes)\n",
    "train_folder = os.path.join(folder3classes, 'train')\n",
    "if not os.path.exists(train_folder):\n",
    "    os.mkdir(train_folder)\n",
    "test_folder = os.path.join(folder3classes, 'test') \n",
    "if not os.path.exists(test_folder): \n",
    "    os.mkdir(test_folder)\n"
   ]
  },
  {
   "cell_type": "markdown",
   "id": "4187ff76",
   "metadata": {},
   "source": [
    "create folder for classes:"
   ]
  },
  {
   "cell_type": "code",
   "execution_count": 15,
   "id": "76221dab",
   "metadata": {},
   "outputs": [],
   "source": [
    "classes3 = df['stim_class_simple'].unique()\n",
    "\n",
    "for folder in [test_folder, train_folder]:\n",
    "\n",
    "    for a_class in classes3:\n",
    "        class_folder = os.path.join(folder, str(a_class))\n",
    "        if not os.path.exists(class_folder): \n",
    "            os.mkdir(class_folder)"
   ]
  },
  {
   "cell_type": "markdown",
   "id": "25c3deb9",
   "metadata": {},
   "source": [
    "assign to group_folder - *copy images*"
   ]
  },
  {
   "cell_type": "code",
   "execution_count": 16,
   "id": "b5a80a00",
   "metadata": {
    "scrolled": true
   },
   "outputs": [],
   "source": [
    "for df, folder in zip([train_df, test_df], [train_folder, test_folder]):\n",
    "    for original_path, img_id, label in zip(df['path_to_img'], df['img_id'], df['stim_class_simple']): \n",
    "        dest_folder = os.path.join(folder, str(label), str(img_id) + '.png') # renamed with img_id \n",
    "        shutil.copy(original_path, dest_folder) \n"
   ]
  }
 ],
 "metadata": {
  "kernelspec": {
   "display_name": "Python 3 (ipykernel)",
   "language": "python",
   "name": "python3"
  },
  "language_info": {
   "codemirror_mode": {
    "name": "ipython",
    "version": 3
   },
   "file_extension": ".py",
   "mimetype": "text/x-python",
   "name": "python",
   "nbconvert_exporter": "python",
   "pygments_lexer": "ipython3",
   "version": "3.9.7"
  }
 },
 "nbformat": 4,
 "nbformat_minor": 5
}
