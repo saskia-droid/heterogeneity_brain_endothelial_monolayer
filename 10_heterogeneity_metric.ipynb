{
 "cells": [
  {
   "cell_type": "markdown",
   "id": "9d6c088e",
   "metadata": {},
   "source": [
    "## heterogeneity metric"
   ]
  },
  {
   "cell_type": "markdown",
   "id": "224a281b",
   "metadata": {},
   "source": [
    "### libraries"
   ]
  },
  {
   "cell_type": "code",
   "execution_count": 1,
   "id": "32f5b719",
   "metadata": {},
   "outputs": [],
   "source": [
    "import os\n",
    "import tensorflow as tf \n",
    "import numpy as np \n",
    "from sklearn.metrics import confusion_matrix\n",
    "import pickle\n",
    "import matplotlib.pyplot as plt\n",
    "from PIL import Image \n",
    "import numpy as np \n",
    "import umap\n",
    "import seaborn as sns \n",
    "import cv2 \n",
    "import math \n",
    "import pandas as pd"
   ]
  },
  {
   "cell_type": "markdown",
   "id": "b263bb98",
   "metadata": {},
   "source": [
    "### instance paths"
   ]
  },
  {
   "cell_type": "code",
   "execution_count": 2,
   "id": "53433921",
   "metadata": {},
   "outputs": [],
   "source": [
    "path_to_features = '/Users/saskia/unibe19/master_thesis/TKI_project/feature_maps/' \n",
    "path_to_Xs_and_Ys = '/Users/saskia/unibe19/master_thesis/TKI_project/Xs_and_Ys/' \n",
    "path_to_info = \"/Users/saskia/unibe19/master_thesis/TKI_project/data/dataset_PC_HN/info.pckl\""
   ]
  },
  {
   "cell_type": "markdown",
   "id": "9713d3ff",
   "metadata": {},
   "source": [
    "### import feature vectors, images and labels "
   ]
  },
  {
   "cell_type": "code",
   "execution_count": 3,
   "id": "2ec315a8",
   "metadata": {},
   "outputs": [],
   "source": [
    "feature_vectors, labels, folder_labels = pickle.load(open(os.path.join(path_to_features, \n",
    "                                                                       'featuresVectors_with_labels.pckl'), 'rb')) \n",
    "\n",
    "Xs = pickle.load(open(os.path.join(path_to_Xs_and_Ys, 'images.pckl'), 'rb')) \n",
    "Ys = pickle.load(open(os.path.join(path_to_Xs_and_Ys, 'labels.pckl'), 'rb'))\n",
    "\n",
    "info = pickle.load(open(path_to_info, \"rb\"))"
   ]
  },
  {
   "cell_type": "code",
   "execution_count": 4,
   "id": "36a00ed3",
   "metadata": {},
   "outputs": [],
   "source": [
    "labels = [info[Ys[i]]['stim'] for i in Ys]\n",
    "#labels"
   ]
  },
  {
   "cell_type": "markdown",
   "id": "3ba86795",
   "metadata": {},
   "source": [
    "### grouping of feature vectors into the individual original images "
   ]
  },
  {
   "cell_type": "code",
   "execution_count": 5,
   "id": "bb580101",
   "metadata": {},
   "outputs": [],
   "source": [
    "constante = 32 # features are a downscaled representation of the original images \n",
    "features_per_image = [] \n",
    "h = math.ceil(Xs.shape[1]/constante)\n",
    "w = math.ceil(Xs.shape[2]/constante)\n",
    "for i in range(len(Xs)):\n",
    "    lower_index = i * h * w\n",
    "    upper_index = (i+1) * h * w\n",
    "    features_per_image.append(feature_vectors[lower_index:upper_index, :])"
   ]
  },
  {
   "cell_type": "markdown",
   "id": "e8104a32",
   "metadata": {},
   "source": [
    "### heterogeneity metric for each images "
   ]
  },
  {
   "cell_type": "markdown",
   "id": "520a5f26",
   "metadata": {},
   "source": [
    "This was done by dividing the feature vectors by the euclidean norm to get vectors of length one. \n",
    "Then the mean of all vectors of length one was computed. \n",
    "Finally, the euclidean norm of the mean was compute again to get us a scalar per images. "
   ]
  },
  {
   "cell_type": "code",
   "execution_count": 6,
   "id": "ca454bff",
   "metadata": {},
   "outputs": [],
   "source": [
    "hetero_m = []\n",
    "for i in range(len(features_per_image)): \n",
    "    norms = np.linalg.norm(features_per_image[i], axis=1) \n",
    "    new_vector = []\n",
    "    for j in range(norms.shape[0]): \n",
    "        new_vector.append(features_per_image[i][j]/norms[j]) \n",
    "    hetero_m.append(np.linalg.norm(np.mean(new_vector, axis=0)))"
   ]
  },
  {
   "cell_type": "markdown",
   "id": "b5a5af2a",
   "metadata": {},
   "source": [
    "#### create dataframe with the heterogeneity metrics:"
   ]
  },
  {
   "cell_type": "code",
   "execution_count": 7,
   "id": "f65d1463",
   "metadata": {},
   "outputs": [],
   "source": [
    "hetero_m = np.asarray(hetero_m)\n",
    "df = pd.DataFrame(data=hetero_m, columns=['hm'])"
   ]
  },
  {
   "cell_type": "markdown",
   "id": "ba4f1627",
   "metadata": {},
   "source": [
    "add stimulation conditions to it:"
   ]
  },
  {
   "cell_type": "code",
   "execution_count": 9,
   "id": "eecc560a",
   "metadata": {},
   "outputs": [],
   "source": [
    "df['stim_cond'] = labels \n",
    "#df"
   ]
  },
  {
   "cell_type": "markdown",
   "id": "a8fe15d1",
   "metadata": {},
   "source": [
    "##### for which indices do we find the larger/smaller metrics? \n",
    "in order to look at the original images and overlays"
   ]
  },
  {
   "cell_type": "code",
   "execution_count": 11,
   "id": "a9155d58",
   "metadata": {},
   "outputs": [
    {
     "data": {
      "text/plain": [
       "array([ 95, 137, 150])"
      ]
     },
     "execution_count": 11,
     "metadata": {},
     "output_type": "execute_result"
    }
   ],
   "source": [
    "idx = np.where(hetero_m < 0.45)[0]\n",
    "idx"
   ]
  },
  {
   "cell_type": "code",
   "execution_count": 12,
   "id": "ad6eb6be",
   "metadata": {},
   "outputs": [
    {
     "data": {
      "text/plain": [
       "array([13, 14, 94])"
      ]
     },
     "execution_count": 12,
     "metadata": {},
     "output_type": "execute_result"
    }
   ],
   "source": [
    "idx = np.where(hetero_m > 0.90)[0]\n",
    "idx"
   ]
  },
  {
   "cell_type": "markdown",
   "id": "8b2be8ce",
   "metadata": {},
   "source": [
    "### distribution of heterogeneity metrics per stimulation conditions"
   ]
  },
  {
   "cell_type": "code",
   "execution_count": 49,
   "id": "71e2320c",
   "metadata": {},
   "outputs": [
    {
     "data": {
      "image/png": "[encoded data removed]",
      "text/plain": [
       "<Figure size 1080x360 with 3 Axes>"
      ]
     },
     "metadata": {
      "needs_background": "light"
     },
     "output_type": "display_data"
    }
   ],
   "source": [
    "fig, axes = plt.subplots(1, 3, figsize=(15, 5), sharex=True, sharey=True)\n",
    "\n",
    "gb = df.groupby('stim_cond')\n",
    "desired_order = ('NS', 'IL-1b High', 'TNF')\n",
    "for (universe, group), ax in zip(((u, gb.get_group(u)) for u in desired_order), axes.flatten()): \n",
    "    group['hm'].plot(kind='hist', ax=ax, title=universe, bins=15) \n",
    "    the_mean = df[df['stim_cond']==universe].mean(numeric_only=True)\n",
    "\n",
    "plt.savefig('/Users/saskia/unibe19/master_thesis/TKI_project/report/figures/hetero_distr.png')"
   ]
  },
  {
   "cell_type": "markdown",
   "id": "e7b07477",
   "metadata": {},
   "source": [
    "### heterogeneity metric means grouped by stimulation conditions"
   ]
  },
  {
   "cell_type": "code",
   "execution_count": 14,
   "id": "f081eacc",
   "metadata": {},
   "outputs": [
    {
     "data": {
      "text/plain": [
       "hm    0.706394\n",
       "dtype: float32"
      ]
     },
     "execution_count": 14,
     "metadata": {},
     "output_type": "execute_result"
    }
   ],
   "source": [
    "df[df['stim_cond']=='NS'].mean(numeric_only=True)"
   ]
  },
  {
   "cell_type": "code",
   "execution_count": 15,
   "id": "7ab8a4d9",
   "metadata": {},
   "outputs": [
    {
     "data": {
      "text/plain": [
       "hm    0.658579\n",
       "dtype: float32"
      ]
     },
     "execution_count": 15,
     "metadata": {},
     "output_type": "execute_result"
    }
   ],
   "source": [
    "df[df['stim_cond']=='IL-1b High'].mean(numeric_only=True)"
   ]
  },
  {
   "cell_type": "code",
   "execution_count": 16,
   "id": "b2fd224b",
   "metadata": {},
   "outputs": [
    {
     "data": {
      "text/plain": [
       "hm    0.679782\n",
       "dtype: float32"
      ]
     },
     "execution_count": 16,
     "metadata": {},
     "output_type": "execute_result"
    }
   ],
   "source": [
    "df[df['stim_cond']=='TNF'].mean(numeric_only=True)"
   ]
  },
  {
   "cell_type": "markdown",
   "id": "22d0e9f4",
   "metadata": {},
   "source": [
    "### investigating the effect heterogenity distribution grouped by folders"
   ]
  },
  {
   "cell_type": "markdown",
   "id": "687769a6",
   "metadata": {},
   "source": [
    "Images come from folders. Each folder have one of the specific stimulation condition. \n",
    "There are not only 3 (or 5) of them because images also come from different sets of experiments, \n",
    "resulting in the final amount of folders. \n",
    "As some experiments have been performed by different experimentators, \n",
    "here I am aiming at finding if heterogeneity could also be influenced by the *set* factor. \n",
    "\n",
    "4 sets of experiments:\n",
    "\n",
    "- 0-5\n",
    "- 6-8\n",
    "- 9-23\n",
    "- 24-28\n"
   ]
  },
  {
   "cell_type": "markdown",
   "id": "4525811a",
   "metadata": {},
   "source": [
    "This investigation was motivated also by the fact that \n",
    "from the 3-component-UMAP-transformed-to-RGB images, I notice that each stimulation conditions \n",
    "could be visually and easily segregated in two further clusters. \n",
    "\n",
    "Here are the sub-group I created:\n",
    "\n",
    "| condition     |                            |\n",
    "| :------------ | :------------------------- |\n",
    "| NS            |                   3, 4, 26 |\n",
    "| **NS**        |     **12, 16, 19, 22, 25** |\n",
    "| IL-1b         |                 0, 2, 5, 9 |\n",
    "| **IL-1b**     |      **7, 10, 14, 17, 20** |\n",
    "| TNF           |                          1 |\n",
    "| **TNF**       | **11, 13, 15, 18, 21, 23** |\n",
    "\n",
    "$\\rightarrow$ 6-8 and 9-23 was performed by the same person (in **bold**)\n",
    "\n",
    "so the model extracted features that result from different manner to handle cells and conduct the experiment, \n",
    "highlignthing the fact that a different experimator have an impact on the resulting cell monolayer pictures "
   ]
  },
  {
   "cell_type": "code",
   "execution_count": 17,
   "id": "899f44cf",
   "metadata": {},
   "outputs": [],
   "source": [
    "df['folder'] = Ys"
   ]
  },
  {
   "cell_type": "code",
   "execution_count": 18,
   "id": "e777088f",
   "metadata": {},
   "outputs": [
    {
     "data": {
      "image/png": "[encoded data removed]",
      "text/plain": [
       "<Figure size 720x720 with 25 Axes>"
      ]
     },
     "metadata": {
      "needs_background": "light"
     },
     "output_type": "display_data"
    }
   ],
   "source": [
    "p = df.hist(column='hm', by='folder', sharex=True, figsize=(10,10))"
   ]
  }
 ],
 "metadata": {
  "kernelspec": {
   "display_name": "Python 3 (ipykernel)",
   "language": "python",
   "name": "python3"
  },
  "language_info": {
   "codemirror_mode": {
    "name": "ipython",
    "version": 3
   },
   "file_extension": ".py",
   "mimetype": "text/x-python",
   "name": "python",
   "nbconvert_exporter": "python",
   "pygments_lexer": "ipython3",
   "version": "3.9.7"
  }
 },
 "nbformat": 4,
 "nbformat_minor": 5
}
