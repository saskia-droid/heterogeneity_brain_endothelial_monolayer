{
 "cells": [
  {
   "cell_type": "markdown",
   "id": "ea5f582b",
   "metadata": {
    "id": "ea5f582b"
   },
   "source": [
    "### library"
   ]
  },
  {
   "cell_type": "code",
   "execution_count": 6,
   "id": "9829cdc8",
   "metadata": {
    "id": "9829cdc8"
   },
   "outputs": [],
   "source": [
    "import os \n",
    "import glob \n",
    "import matplotlib.pyplot as plt\n",
    "from PIL import Image\n",
    "import numpy as np\n",
    "import shutil"
   ]
  },
  {
   "cell_type": "markdown",
   "id": "PJp6GR1gQU2-",
   "metadata": {
    "id": "PJp6GR1gQU2-"
   },
   "source": [
    "### Interface fns"
   ]
  },
  {
   "cell_type": "code",
   "execution_count": 7,
   "id": "98a437d3",
   "metadata": {
    "id": "98a437d3"
   },
   "outputs": [],
   "source": [
    "def get_crops(im, crop_size):\n",
    "    h, w = im.shape\n",
    "    stride = crop_size // 2\n",
    "\n",
    "    n_h = (h - crop_size) // stride + 1\n",
    "    n_w = (w - crop_size) // stride + 1\n",
    "\n",
    "    crops = []\n",
    "\n",
    "    for i in range(n_h):\n",
    "        for j in range(n_w):\n",
    "            x_0 = stride*j\n",
    "            x_1 = x_0 + crop_size\n",
    "\n",
    "            y_0 = stride*i\n",
    "            y_1 = y_0 + crop_size\n",
    "\n",
    "            crop = im[y_0:y_1, x_0:x_1]\n",
    "            crops.append(crop)\n",
    "\n",
    "    return crops\n",
    "\n",
    "def crops_iterate_dir(dir_in, dir_out, crop_size):\n",
    "    os.makedirs(dir_out, exist_ok=True)\n",
    "    fnames = glob.glob(dir_in+'/*.png')\n",
    "    \n",
    "    for file_name in fnames:\n",
    "        file_base_name = os.path.basename(file_name)\n",
    "        file_base_name = file_base_name.split('.')[0]\n",
    "\n",
    "        im = np.asarray(Image.open(file_name))\n",
    "        assert len(im.shape) == 2  # h, w\n",
    "        crops = get_crops(im, crop_size)\n",
    "\n",
    "        for i, crop in enumerate(crops):\n",
    "            save_fname = os.path.join(dir_out, f'{file_base_name}_{i:04d}.png')\n",
    "            p_img = Image.fromarray(crop)\n",
    "            p_img.save(save_fname)\n",
    "\n",
    "def gen_crops_dataset(dir_in, dir_out, crop_size, n_classes=3):\n",
    "    if os.path.exists(dir_out):\n",
    "        print(f'too late WARNING: directory {dir_out} is deleted FOREVER!')\n",
    "        shutil.rmtree(dir_out)\n",
    "\n",
    "    for class_idx in range(n_classes):  \n",
    "        subdir_in = os.path.join(dir_in, f'{class_idx}')\n",
    "        subdir_out = os.path.join(dir_out, f'{class_idx}')\n",
    "        crops_iterate_dir(subdir_in, subdir_out, crop_size)"
   ]
  },
  {
   "cell_type": "markdown",
   "id": "nRAxlwCBQb4m",
   "metadata": {
    "id": "nRAxlwCBQb4m"
   },
   "source": [
    "### Generate crops"
   ]
  },
  {
   "cell_type": "code",
   "execution_count": 8,
   "id": "a48c7602",
   "metadata": {
    "id": "a48c7602"
   },
   "outputs": [],
   "source": [
    "dir_in = '/Users/saskia/unibe19/master_thesis/TKI_project/data/dataset5classes/test/'"
   ]
  },
  {
   "cell_type": "markdown",
   "id": "4257428e",
   "metadata": {
    "id": "4257428e"
   },
   "source": [
    "creating the ``testset03_192`` folder with crop size of 192x192:"
   ]
  },
  {
   "cell_type": "code",
   "execution_count": 9,
   "id": "1ef3ba2c",
   "metadata": {
    "colab": {
     "base_uri": "https://localhost:8080/"
    },
    "id": "1ef3ba2c",
    "outputId": "f888fa0d-7869-4026-8dfc-0b2e52fec9c4"
   },
   "outputs": [],
   "source": [
    "dir_out = '/Users/saskia/unibe19/master_thesis/TKI_project/data/dataset5classes/testset192/'\n",
    "gen_crops_dataset(dir_in, dir_out, crop_size=192, n_classes=5)"
   ]
  },
  {
   "cell_type": "markdown",
   "id": "w2mBx8mvQhqW",
   "metadata": {
    "id": "w2mBx8mvQhqW"
   },
   "source": [
    "### tests"
   ]
  },
  {
   "cell_type": "code",
   "execution_count": 8,
   "id": "NcLlt5Z8HxbF",
   "metadata": {
    "id": "NcLlt5Z8HxbF"
   },
   "outputs": [],
   "source": [
    "im = plt.imread(dir_out + '0/003002_0000.png')"
   ]
  },
  {
   "cell_type": "code",
   "execution_count": 9,
   "id": "GjlQXElbLTHB",
   "metadata": {
    "colab": {
     "base_uri": "https://localhost:8080/"
    },
    "id": "GjlQXElbLTHB",
    "outputId": "1d114f41-89a2-41f6-d7a1-519896a27236"
   },
   "outputs": [
    {
     "data": {
      "text/plain": [
       "(192, 192)"
      ]
     },
     "execution_count": 9,
     "metadata": {},
     "output_type": "execute_result"
    }
   ],
   "source": [
    "im.shape"
   ]
  }
 ],
 "metadata": {
  "colab": {
   "collapsed_sections": [
    "ea5f582b",
    "PJp6GR1gQU2-",
    "w2mBx8mvQhqW"
   ],
   "name": "14_create_new_testset_directory.ipynb",
   "provenance": []
  },
  "kernelspec": {
   "display_name": "Python 3 (ipykernel)",
   "language": "python",
   "name": "python3"
  },
  "language_info": {
   "codemirror_mode": {
    "name": "ipython",
    "version": 3
   },
   "file_extension": ".py",
   "mimetype": "text/x-python",
   "name": "python",
   "nbconvert_exporter": "python",
   "pygments_lexer": "ipython3",
   "version": "3.9.7"
  }
 },
 "nbformat": 4,
 "nbformat_minor": 5
}
