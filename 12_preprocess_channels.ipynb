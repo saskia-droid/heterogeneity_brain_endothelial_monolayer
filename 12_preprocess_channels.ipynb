{
 "cells": [
  {
   "cell_type": "code",
   "execution_count": 6,
   "id": "727ee7b6",
   "metadata": {},
   "outputs": [],
   "source": [
    "import os\n",
    "import tensorflow as tf\n",
    "import pickle\n",
    "from PIL import Image\n",
    "import numpy as np\n",
    "import cv2\n",
    "from matplotlib import pyplot as plt \n",
    "from scipy import ndimage"
   ]
  },
  {
   "cell_type": "code",
   "execution_count": 7,
   "id": "8d8a2a84",
   "metadata": {},
   "outputs": [],
   "source": [
    "# defining paths\n",
    "path_to_new_frames = '/Volumes/tki/EngelhardtGroup/Saskia/data/exported_frames'\n",
    "main_dir_path = os.path.join(path_to_new_frames, \"flow/single_z\")\n",
    "path_to_med_filters = '/Users/saskia/unibe19/master_thesis/TKI_project/med_filters' \n",
    "saving_path = '/Users/saskia/unibe19/master_thesis/TKI_project/data/preprocess_channel_images/flow/single_z'"
   ]
  },
  {
   "cell_type": "markdown",
   "id": "49f38f69",
   "metadata": {},
   "source": [
    "### channel 1"
   ]
  },
  {
   "cell_type": "code",
   "execution_count": 8,
   "id": "7e2cbfac",
   "metadata": {},
   "outputs": [],
   "source": [
    "### import med filter for channel 1\n",
    "med_filt_c1 = pickle.load(open(os.path.join(path_to_med_filters, \"med_filt_c1.pckl\"), \"rb\"))"
   ]
  },
  {
   "cell_type": "code",
   "execution_count": 9,
   "id": "40331cb6",
   "metadata": {},
   "outputs": [
    {
     "data": {
      "text/plain": [
       "<matplotlib.image.AxesImage at 0x1800cb9d0>"
      ]
     },
     "execution_count": 9,
     "metadata": {},
     "output_type": "execute_result"
    },
    {
     "data": {
      "image/png": "[encoded data removed]",
      "text/plain": [
       "<Figure size 432x288 with 1 Axes>"
      ]
     },
     "metadata": {
      "needs_background": "light"
     },
     "output_type": "display_data"
    }
   ],
   "source": [
    "plt.imshow(med_filt_c1, cmap = 'gray')"
   ]
  },
  {
   "cell_type": "markdown",
   "id": "cacae42e",
   "metadata": {},
   "source": [
    "#### see where to above-clip:"
   ]
  },
  {
   "cell_type": "code",
   "execution_count": 19,
   "id": "ae87354b",
   "metadata": {},
   "outputs": [],
   "source": [
    "res_img = []\n",
    "\n",
    "for root, subdirs, files in os.walk(main_dir_path):\n",
    "    for name in files: \n",
    "        if ('c001' in name):\n",
    "            path = os.path.join(root, name)\n",
    "            img = Image.open(path)\n",
    "            \n",
    "            # convert image to numpy array\n",
    "            data = np.asarray(img) \n",
    "            \n",
    "            # subtract median filter (A-B) \n",
    "            res = np.subtract(data, med_filt_c1)\n",
    "\n",
    "            # clip to zero \n",
    "            clipped = np.clip(res, a_min = 0, a_max = 255)\n",
    "            \n",
    "            res_img.append(clipped)\n",
    "            "
   ]
  },
  {
   "cell_type": "code",
   "execution_count": 20,
   "id": "f2fc42cd",
   "metadata": {},
   "outputs": [],
   "source": [
    "res_img = np.array(res_img)"
   ]
  },
  {
   "cell_type": "code",
   "execution_count": 21,
   "id": "7e3d5c50",
   "metadata": {},
   "outputs": [],
   "source": [
    "flat_pixels = res_img.flatten()"
   ]
  },
  {
   "cell_type": "code",
   "execution_count": 22,
   "id": "cbaa2be6",
   "metadata": {},
   "outputs": [
    {
     "data": {
      "text/plain": [
       "(array([8.43633e+05, 7.97005e+05, 7.56158e+05, 7.15272e+05, 6.79705e+05,\n",
       "        6.43208e+05, 6.11275e+05, 5.76628e+05, 5.47859e+05, 5.17646e+05,\n",
       "        4.93247e+05, 4.65565e+05, 4.43895e+05, 4.19463e+05, 3.99769e+05,\n",
       "        3.76550e+05, 3.59376e+05, 3.38856e+05, 3.22902e+05, 3.04508e+05,\n",
       "        2.91773e+05, 2.75690e+05, 2.62753e+05, 2.47436e+05, 2.36877e+05,\n",
       "        2.24020e+05, 2.13097e+05, 2.02642e+05, 1.92691e+05, 1.82634e+05,\n",
       "        1.74624e+05, 1.64966e+05, 1.57826e+05, 1.49914e+05, 1.42747e+05,\n",
       "        1.35063e+05, 1.29282e+05, 1.22650e+05, 1.17356e+05, 1.11511e+05,\n",
       "        1.06178e+05, 1.00400e+05, 9.67310e+04, 9.16230e+04, 8.78930e+04,\n",
       "        8.25630e+04, 7.98170e+04, 7.58350e+04, 7.93180e+04, 9.31900e+04,\n",
       "        8.88890e+04, 8.32650e+04, 7.37560e+04, 7.46150e+04, 8.78890e+04,\n",
       "        9.73880e+04, 8.00920e+04, 7.76830e+04, 7.54560e+04, 1.12603e+05,\n",
       "        1.41061e+05, 3.72165e+05, 4.14039e+05, 1.65755e+05, 8.97600e+04,\n",
       "        7.51430e+04, 8.25410e+04, 6.05370e+04, 5.41840e+04, 6.24740e+04,\n",
       "        5.99900e+04, 4.40770e+04, 3.66910e+04, 3.34760e+04, 3.92250e+04,\n",
       "        3.02670e+04, 3.37880e+04, 3.86800e+04, 3.25760e+04, 1.99980e+04,\n",
       "        2.41260e+04, 1.68570e+04, 2.13050e+04, 2.04190e+04, 9.42100e+03,\n",
       "        5.55500e+03, 3.26900e+03, 1.68200e+03, 3.64000e+03, 2.28100e+03,\n",
       "        1.99700e+03, 2.16300e+03, 2.94500e+03, 2.75700e+03, 5.50000e+02,\n",
       "        1.70200e+03, 1.80900e+03, 1.69400e+03, 1.10600e+03, 1.45000e+03]),\n",
       " array([100. , 101.5, 103. , 104.5, 106. , 107.5, 109. , 110.5, 112. ,\n",
       "        113.5, 115. , 116.5, 118. , 119.5, 121. , 122.5, 124. , 125.5,\n",
       "        127. , 128.5, 130. , 131.5, 133. , 134.5, 136. , 137.5, 139. ,\n",
       "        140.5, 142. , 143.5, 145. , 146.5, 148. , 149.5, 151. , 152.5,\n",
       "        154. , 155.5, 157. , 158.5, 160. , 161.5, 163. , 164.5, 166. ,\n",
       "        167.5, 169. , 170.5, 172. , 173.5, 175. , 176.5, 178. , 179.5,\n",
       "        181. , 182.5, 184. , 185.5, 187. , 188.5, 190. , 191.5, 193. ,\n",
       "        194.5, 196. , 197.5, 199. , 200.5, 202. , 203.5, 205. , 206.5,\n",
       "        208. , 209.5, 211. , 212.5, 214. , 215.5, 217. , 218.5, 220. ,\n",
       "        221.5, 223. , 224.5, 226. , 227.5, 229. , 230.5, 232. , 233.5,\n",
       "        235. , 236.5, 238. , 239.5, 241. , 242.5, 244. , 245.5, 247. ,\n",
       "        248.5, 250. ]),\n",
       " <BarContainer object of 100 artists>)"
      ]
     },
     "execution_count": 22,
     "metadata": {},
     "output_type": "execute_result"
    },
    {
     "data": {
      "image/png": "[encoded data removed]",
      "text/plain": [
       "<Figure size 432x288 with 1 Axes>"
      ]
     },
     "metadata": {
      "needs_background": "light"
     },
     "output_type": "display_data"
    }
   ],
   "source": [
    "plt.hist(flat_pixels, bins=100, range=(100, 250)) "
   ]
  },
  {
   "cell_type": "markdown",
   "id": "f202911d",
   "metadata": {},
   "source": [
    "$\\rightarrow$ clip at 180"
   ]
  },
  {
   "cell_type": "markdown",
   "id": "a1cd7767",
   "metadata": {},
   "source": [
    "#### remove artefacts"
   ]
  },
  {
   "cell_type": "markdown",
   "id": "c321fd94",
   "metadata": {},
   "source": [
    "- for all channel, bright dots were removed by clipping between 0 and 180 \n",
    "- for channel 1 (VE-cadherin), the artefact *slope* was remove by substracting the median filter "
   ]
  },
  {
   "cell_type": "code",
   "execution_count": 21,
   "id": "a32b8da7",
   "metadata": {},
   "outputs": [],
   "source": [
    "for root, subdirs, files in os.walk(main_dir_path):\n",
    "    for name in files: \n",
    "        if ('c003' in name):\n",
    "            path = os.path.join(root, name)\n",
    "            dir_name = os.path.basename(os.path.dirname(path))\n",
    "            img = Image.open(path)\n",
    "            \n",
    "            # convert image to numpy array\n",
    "            data = np.asarray(img) \n",
    "            \n",
    "            # subtract median filter (A-B) for channel 'c001'\n",
    "            #res = np.subtract(data, med_filt_c1)\n",
    "\n",
    "            # clip to zero and 180\n",
    "            # 180 threshold was choose with the help of the histogram \n",
    "            clipped = np.clip(data, a_min = 0, a_max = 180) \n",
    "            \n",
    "            # scale to 0-255 \n",
    "            data = clipped.astype(np.float64) / clipped.max() # normalize the data to 0 - 1\n",
    "            data = 255 * data # scale by 255\n",
    "            img = data.astype(np.uint8)\n",
    "            \n",
    "            # save resulting image \n",
    "            im = Image.fromarray(img)\n",
    "            sav_path = os.path.join(saving_path, dir_name) \n",
    "            \n",
    "            if not os.path.exists(sav_path):\n",
    "  \n",
    "                # create a new directory because it does not exist \n",
    "                os.makedirs(sav_path)\n",
    "            \n",
    "            # pre-process images were saved \n",
    "            im.save(os.path.join(os.path.join(saving_path, dir_name), name))\n",
    "                        "
   ]
  }
 ],
 "metadata": {
  "kernelspec": {
   "display_name": "Python 3 (ipykernel)",
   "language": "python",
   "name": "python3"
  },
  "language_info": {
   "codemirror_mode": {
    "name": "ipython",
    "version": 3
   },
   "file_extension": ".py",
   "mimetype": "text/x-python",
   "name": "python",
   "nbconvert_exporter": "python",
   "pygments_lexer": "ipython3",
   "version": "3.9.7"
  }
 },
 "nbformat": 4,
 "nbformat_minor": 5
}
